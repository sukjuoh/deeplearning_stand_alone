{
 "cells": [
  {
   "cell_type": "code",
   "execution_count": 14,
   "id": "9bf4f129-d4e4-48d1-b6ca-b42928bee019",
   "metadata": {},
   "outputs": [
    {
     "name": "stdout",
     "output_type": "stream",
     "text": [
      "{'value1': 5, 'value2': 10, 'seg': [1, 2, 3, 4, 5]}\n"
     ]
    }
   ],
   "source": [
    "import json\n",
    "a = {'value1' : 5, 'value2' : 10, 'seg' : [1,2,3,4,5]}\n",
    "\n",
    "filename = 'test.json'\n",
    "with open(filename, 'w') as f:\n",
    "    json.dump(a, f)\n",
    "\n",
    "with open(filename, 'r') as f:\n",
    "    result = json.load(f)\n",
    "    print(result)\n"
   ]
  },
  {
   "cell_type": "code",
   "execution_count": 16,
   "id": "395b73e8-76e8-46d8-b3ce-3505a3d8bc3b",
   "metadata": {},
   "outputs": [
    {
     "name": "stdout",
     "output_type": "stream",
     "text": [
      " C 드라이브의 볼륨에는 이름이 없습니다.\n",
      " 볼륨 일련 번호: 7651-2F18\n",
      "\n",
      " C:\\Users\\user\\딥러닝 홀로서기 디렉터리\n",
      "\n",
      "2024-08-05  오전 10:51    <DIR>          .\n",
      "2024-08-05  오전 01:25    <DIR>          ..\n",
      "2024-08-04  오후 02:29    <DIR>          .ipynb_checkpoints\n",
      "2024-08-01  오후 03:22         5,689,095 classificaiton.ipynb\n",
      "2024-08-03  오후 01:33    <DIR>          data\n",
      "2024-08-04  오후 01:37            40,742 Experiment.ipynb\n",
      "2024-08-01  오전 10:52            73,619 linear regression.ipynb\n",
      "2024-08-01  오후 03:05         8,285,447 mlp in pytorch.ipynb\n",
      "2024-08-02  오후 02:16           117,080 Mnist in mlp.ipynb\n",
      "2024-08-02  오후 12:08             1,827 Parameterize.ipynb\n",
      "2024-08-04  오후 01:34    <DIR>          results\n",
      "2024-08-04  오후 01:40            58,452 Sample of Hyperparameter Tunining.ipynb\n",
      "2024-08-05  오전 10:50                51 test.json\n",
      "2024-08-05  오전 10:51             4,112 Untitled.ipynb\n",
      "               9개 파일          14,270,425 바이트\n",
      "               5개 디렉터리  303,531,819,008 바이트 남음\n",
      "{\"value1\": 5, \"value2\": 10, \"seg\": [1, 2, 3, 4, 5]}\n"
     ]
    }
   ],
   "source": [
    "!dir\n",
    "!type test.json"
   ]
  },
  {
   "cell_type": "code",
   "execution_count": 28,
   "id": "ebf5ae18-0d6e-4de7-b8fe-8670bdcb9e11",
   "metadata": {},
   "outputs": [
    {
     "name": "stdout",
     "output_type": "stream",
     "text": [
      "exp1-1e0278.json\n"
     ]
    }
   ],
   "source": [
    "import hashlib\n",
    "setting = {'value2' : 5, 'value2' : 10, 'seq' : [1,2,3,45], 'exp_name' : 'exp1'}\n",
    "exp_name = setting['exp_name']\n",
    "hash_key = hashlib.sha1(str(setting).encode()).hexdigest()[:6]\n",
    "filename = '{}-{}.json'.format(exp_name, hash_key)\n",
    "\n",
    "print(filename)"
   ]
  }
 ],
 "metadata": {
  "kernelspec": {
   "display_name": "Python 3 (ipykernel)",
   "language": "python",
   "name": "python3"
  },
  "language_info": {
   "codemirror_mode": {
    "name": "ipython",
    "version": 3
   },
   "file_extension": ".py",
   "mimetype": "text/x-python",
   "name": "python",
   "nbconvert_exporter": "python",
   "pygments_lexer": "ipython3",
   "version": "3.11.7"
  }
 },
 "nbformat": 4,
 "nbformat_minor": 5
}
