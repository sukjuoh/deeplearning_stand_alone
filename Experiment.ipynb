{
 "cells": [
  {
   "cell_type": "code",
   "execution_count": 45,
   "id": "b2e5ef1c-a298-4016-a777-c144ff33889b",
   "metadata": {},
   "outputs": [],
   "source": [
    "import torch\n",
    "import torch.nn as nn\n",
    "import torchvision\n",
    "import torchvision.transforms as transforms\n",
    "import torch.optim as optim"
   ]
  },
  {
   "cell_type": "markdown",
   "id": "26ff02f6-08d5-4542-add0-fa48de040c90",
   "metadata": {},
   "source": [
    "# Data Preparation"
   ]
  },
  {
   "cell_type": "code",
   "execution_count": 46,
   "id": "4677128e-8f96-410e-9401-baf8bd95123f",
   "metadata": {},
   "outputs": [
    {
     "name": "stdout",
     "output_type": "stream",
     "text": [
      "Files already downloaded and verified\n",
      "Files already downloaded and verified\n"
     ]
    }
   ],
   "source": [
    "transform = transforms.Compose(\n",
    "    [transforms.ToTensor(),\n",
    "     transforms.Normalize((0.5, 0.5, 0.5), (0.5, 0.5, 0.5))])\n",
    "\n",
    "batch_size = 4\n",
    "\n",
    "trainset = torchvision.datasets.CIFAR10(root='./data', train=True,\n",
    "                                        download=True, transform=transform)\n",
    "\n",
    "\n",
    "trainset, valset = torch.utils.data.random_split(trainset, [40000, 10000])\n",
    "\n",
    "\n",
    "testset = torchvision.datasets.CIFAR10(root='./data', train=False,\n",
    "                                       download=True, transform=transform)\n",
    "\n",
    "trainloader = torch.utils.data.DataLoader(trainset, batch_size=batch_size,\n",
    "                                          shuffle=True, num_workers=2)\n",
    "valloader = torch.utils.data.DataLoader(valset, batch_size=4, shuffle=False)\n",
    "testloader = torch.utils.data.DataLoader(testset, batch_size=batch_size,\n",
    "                                         shuffle=False, num_workers=2)\n",
    "\n",
    "classes = ('plane', 'car', 'bird', 'cat',\n",
    "           'deer', 'dog', 'frog', 'horse', 'ship', 'truck')"
   ]
  },
  {
   "cell_type": "code",
   "execution_count": 47,
   "id": "b140970c-1db7-4e43-ab09-9785202d58a9",
   "metadata": {},
   "outputs": [
    {
     "data": {
      "image/png": "[encoded data removed]",
      "text/plain": [
       "<Figure size 640x480 with 1 Axes>"
      ]
     },
     "metadata": {},
     "output_type": "display_data"
    },
    {
     "name": "stdout",
     "output_type": "stream",
     "text": [
      "truck cat   frog  truck\n",
      "<class 'torch.Tensor'> torch.Size([4, 3, 32, 32])\n",
      "<class 'torch.Tensor'> torch.Size([4]) tensor([9, 3, 6, 9])\n"
     ]
    }
   ],
   "source": [
    "import matplotlib.pyplot as plt\n",
    "import numpy as np\n",
    "\n",
    "# functions to show an image\n",
    "\n",
    "\n",
    "def imshow(img):\n",
    "    img = img / 2 + 0.5     # unnormalize\n",
    "    npimg = img.numpy()\n",
    "    plt.imshow(np.transpose(npimg, (1, 2, 0)))\n",
    "    plt.show()\n",
    "\n",
    "\n",
    "# get some random training images\n",
    "dataiter = iter(trainloader)\n",
    "images, labels = next(dataiter)\n",
    "\n",
    "# show images\n",
    "imshow(torchvision.utils.make_grid(images))\n",
    "# print labels\n",
    "print(' '.join(f'{classes[labels[j]]:5s}' for j in range(batch_size)))\n",
    "\n",
    "print(type(images), images.shape)\n",
    "print(type(labels), labels.shape, labels)"
   ]
  },
  {
   "cell_type": "markdown",
   "id": "a89a2c0b-0924-495e-b0df-9c402e9fd243",
   "metadata": {},
   "source": [
    "## Model Architecture"
   ]
  },
  {
   "cell_type": "code",
   "execution_count": 48,
   "id": "3b3ec029-78a9-4793-9496-b822de4e2c6a",
   "metadata": {},
   "outputs": [],
   "source": [
    "class MLP(nn.Module):\n",
    "    def __init__(self, in_dim, out_dim, hid_dim, n_layer, act, dropout, use_bn, use_xavier):\n",
    "        super(MLP, self).__init__()\n",
    "        self.in_dim = in_dim\n",
    "        self.out_dim = out_dim\n",
    "        self.hid_dim = hid_dim\n",
    "        self.n_layer = n_layer\n",
    "        self.act = act\n",
    "        self.dropout = dropout\n",
    "        self.use_bn = use_bn\n",
    "        self.use_xavier = use_xavier\n",
    "        \n",
    "        # ====== Create Linear Layers ====== #\n",
    "        self.fc1 = nn.Linear(self.in_dim, self.hid_dim)\n",
    "        \n",
    "        self.linears = nn.ModuleList()\n",
    "        self.bns = nn.ModuleList()\n",
    "        for i in range(self.n_layer-1):\n",
    "            self.linears.append(nn.Linear(self.hid_dim, self.hid_dim))\n",
    "            if self.use_bn:\n",
    "                self.bns.append(nn.BatchNorm1d(self.hid_dim))\n",
    "                \n",
    "        self.fc2 = nn.Linear(self.hid_dim, self.out_dim)\n",
    "        \n",
    "        # ====== Create Activation Function ====== #\n",
    "        if self.act == 'relu':\n",
    "            self.act = nn.ReLU()\n",
    "        elif self.act == 'tanh':\n",
    "            self.act == nn.Tanh()\n",
    "        elif self.act == 'sigmoid':\n",
    "            self.act = nn.Sigmoid()\n",
    "        else:\n",
    "            raise ValueError('no valid activation function selected!')\n",
    "        \n",
    "        # ====== Create Regularization Layer ======= #\n",
    "        self.dropout = nn.Dropout(self.dropout)\n",
    "        if self.use_xavier:\n",
    "            self.xavier_init()\n",
    "          \n",
    "    def forward(self, x):\n",
    "        x = self.act(self.fc1(x))\n",
    "        for i in range(len(self.linears)):\n",
    "            x = self.act(self.linears[i](x))\n",
    "            if self.use_bn:\n",
    "                x = self.bns[i](x)\n",
    "            x = self.dropout(x)\n",
    "        x = self.fc2(x)\n",
    "        return x\n",
    "    \n",
    "    def xavier_init(self):\n",
    "        for linear in self.linears:\n",
    "            nn.init.xavier_normal_(linear.weight)\n",
    "            linear.bias.data.fill_(0.01)\n",
    "\n"
   ]
  },
  {
   "cell_type": "markdown",
   "id": "d17e84ab-ebb1-4904-b875-a7d837941047",
   "metadata": {},
   "source": [
    "# Experiment"
   ]
  },
  {
   "cell_type": "code",
   "execution_count": 49,
   "id": "8c191f88-c3e4-4de3-854a-cd98440a1bce",
   "metadata": {},
   "outputs": [],
   "source": [
    "def experiment(args):\n",
    "    \n",
    "    net = MLP(args.in_dim, args.out_dim, args.hid_dim, args.n_layers, args.act, args.dropout, args.bn, args.xavier)\n",
    "    \n",
    "    net.cuda()\n",
    "    print(net)\n",
    "\n",
    "    criterion = nn.CrossEntropyLoss()\n",
    "    optimizer = optim.SGD(net.parameters(), lr=args.lr, momentum = args.mm)\n",
    "    print('Number of {} parameters'.format(sum(p.numel() for p in net.parameters() if p.requires_grad)))\n",
    "    for epoch in range(args.epoch):  # loop over the dataset multiple times\n",
    "\n",
    "        # ====== Train ====== #\n",
    "        train_loss = 0.0\n",
    "        for i, data in enumerate(trainloader, 0):\n",
    "            # get the inputs; data is a list of [inputs, labels]\n",
    "            inputs, labels = data\n",
    "            inputs = inputs.view(-1, 3072)\n",
    "            inputs = inputs.cuda()\n",
    "            labels = labels.cuda()\n",
    "    \n",
    "            # zero the parameter gradients\n",
    "            optimizer.zero_grad()\n",
    "    \n",
    "            # forward + backward + optimize\n",
    "            outputs = net(inputs)\n",
    "            loss = criterion(outputs, labels)\n",
    "            loss.backward()\n",
    "            optimizer.step()\n",
    "            train_loss += loss.item()\n",
    "        train_loss = train_loss / len(trainloader)\n",
    "           \n",
    "        # ====== Validation ====== #    \n",
    "        correct = 0\n",
    "        total = 0\n",
    "        val_loss = 0\n",
    "        # since we're not training, we don't need to calculate the gradients for our outputs\n",
    "        with torch.no_grad():\n",
    "            for data in valloader:\n",
    "                images, labels = data\n",
    "                images = images.view(-1, 3072)\n",
    "                images = images.cuda()\n",
    "                labels = labels.cuda()\n",
    "                # calculate outputs by running images through the network\n",
    "                outputs = net(images)\n",
    "                loss = criterion(outputs, labels)\n",
    "                val_loss += loss.item()\n",
    "                \n",
    "                # the class with the highest energy is what we choose as prediction\n",
    "                _, predicted = torch.max(outputs.data, 1)\n",
    "                total += labels.size(0)\n",
    "                correct += (predicted == labels).sum().item()\n",
    "                \n",
    "            val_loss = val_loss / len(valloader)\n",
    "            val_acc = 100 * correct / total\n",
    "            \n",
    "        print('Epoch {}, Train Loss: {}, Val Loss: {}, Val Acc: {}'.format(epoch, train_loss, val_loss, val_acc))\n",
    "        # ====== Evaluation ====== #\n",
    "        correct = 0\n",
    "        total = 0\n",
    "        # since we're not training, we don't need to calculate the gradients for our outputs\n",
    "        with torch.no_grad():\n",
    "            for data in testloader:\n",
    "                images, labels = data\n",
    "                images = images.view(-1, 3072)\n",
    "                images = images.cuda()\n",
    "                labels = labels.cuda()\n",
    "                # calculate outputs by running images through the network\n",
    "                outputs = net(images)\n",
    "                # the class with the highest energy is what we choose as prediction\n",
    "                _, predicted = torch.max(outputs.data, 1)\n",
    "                total += labels.size(0)\n",
    "                correct += (predicted == labels).sum().item()\n",
    "            test_acc = 100* correct / total\n",
    "        print('Test Acc: {}'.format(test_acc))\n",
    "        \n",
    "\n",
    "    "
   ]
  },
  {
   "cell_type": "code",
   "execution_count": 51,
   "id": "c7995848-a244-4a9a-ab8c-ecb57adca926",
   "metadata": {},
   "outputs": [
    {
     "name": "stdout",
     "output_type": "stream",
     "text": [
      "MLP(\n",
      "  (fc1): Linear(in_features=3072, out_features=100, bias=True)\n",
      "  (linears): ModuleList(\n",
      "    (0-3): 4 x Linear(in_features=100, out_features=100, bias=True)\n",
      "  )\n",
      "  (bns): ModuleList(\n",
      "    (0-3): 4 x BatchNorm1d(100, eps=1e-05, momentum=0.1, affine=True, track_running_stats=True)\n",
      "  )\n",
      "  (fc2): Linear(in_features=100, out_features=10, bias=True)\n",
      "  (act): ReLU()\n",
      "  (dropout): Dropout(p=0.1, inplace=False)\n",
      ")\n",
      "Number of 349510 parameters\n",
      "Epoch 0, Train Loss: 2.262703082096577, Val Loss: 2.206724498653412, Val Acc: 17.6\n",
      "Test Acc: 17.63\n",
      "Epoch 1, Train Loss: 2.2093962699890137, Val Loss: 2.1923519495487214, Val Acc: 18.18\n",
      "Test Acc: 18.35\n"
     ]
    }
   ],
   "source": [
    "import argparse\n",
    "\n",
    "seed = 123\n",
    "np.random.seed(seed)\n",
    "torch.manual_seed(seed)\n",
    "\n",
    "parser = argparse.ArgumentParser()\n",
    "args = parser.parse_args(\"\")\n",
    "\n",
    "args.n_layers = 5\n",
    "args.in_dim = 3072\n",
    "args.out_dim = 10\n",
    "args.hid_dim = 100\n",
    "args.act = 'relu'\n",
    "args.dropout = 0.1\n",
    "args.bn = True\n",
    "args.xavier = True\n",
    "args.lr = 0.001\n",
    "args.mm = 0.9\n",
    "args.epoch = 2\n",
    "experiment(args)\n"
   ]
  },
  {
   "cell_type": "code",
   "execution_count": null,
   "id": "a1023a0d-335e-4ad4-8d62-0b545de6e514",
   "metadata": {},
   "outputs": [],
   "source": []
  }
 ],
 "metadata": {
  "kernelspec": {
   "display_name": "Python 3 (ipykernel)",
   "language": "python",
   "name": "python3"
  },
  "language_info": {
   "codemirror_mode": {
    "name": "ipython",
    "version": 3
   },
   "file_extension": ".py",
   "mimetype": "text/x-python",
   "name": "python",
   "nbconvert_exporter": "python",
   "pygments_lexer": "ipython3",
   "version": "3.11.7"
  }
 },
 "nbformat": 4,
 "nbformat_minor": 5
}
