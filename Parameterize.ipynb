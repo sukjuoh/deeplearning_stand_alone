{
 "cells": [
  {
   "cell_type": "code",
   "execution_count": 2,
   "id": "9f155e9c-bb0c-49bc-b461-feac654fcce7",
   "metadata": {},
   "outputs": [],
   "source": [
    "import argparse"
   ]
  },
  {
   "cell_type": "code",
   "execution_count": 4,
   "id": "2df9044b-afc4-4baa-9d7a-d5e67872cc6d",
   "metadata": {},
   "outputs": [],
   "source": [
    "parser = argparse.ArgumentParser()\n",
    "args = parser.parse_args(\"\")"
   ]
  },
  {
   "cell_type": "code",
   "execution_count": 11,
   "id": "9879ca6c-1cfd-48ef-a1f9-db90e73ee57b",
   "metadata": {},
   "outputs": [
    {
     "name": "stdout",
     "output_type": "stream",
     "text": [
      "5\n",
      "Namespace(num_layer=5, in_dim=100)\n",
      "Namespace(num_layer=5, in_dim=100)\n",
      "[0, 1, 2, 3, 4]\n",
      "{'num_layer': 5, 'in_dim': 100} <class 'dict'>\n"
     ]
    }
   ],
   "source": [
    "args.num_layer = 5\n",
    "print(args.num_layer)\n",
    "print(args)\n",
    "\n",
    "args.in_dim = 100\n",
    "print(args)\n",
    "\n",
    "linears = []\n",
    "for i in range(args.num_layer):\n",
    "    linears.append(i)\n",
    "\n",
    "print(linears)\n",
    "\n",
    "d = vars(args)\n",
    "print(d, type(d))"
   ]
  },
  {
   "cell_type": "code",
   "execution_count": null,
   "id": "38dac8de-7d85-45fa-a407-363da2fd5fce",
   "metadata": {},
   "outputs": [],
   "source": []
  }
 ],
 "metadata": {
  "kernelspec": {
   "display_name": "Python 3 (ipykernel)",
   "language": "python",
   "name": "python3"
  },
  "language_info": {
   "codemirror_mode": {
    "name": "ipython",
    "version": 3
   },
   "file_extension": ".py",
   "mimetype": "text/x-python",
   "name": "python",
   "nbconvert_exporter": "python",
   "pygments_lexer": "ipython3",
   "version": "3.11.7"
  }
 },
 "nbformat": 4,
 "nbformat_minor": 5
}
